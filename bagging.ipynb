{
 "cells": [
  {
   "cell_type": "code",
   "execution_count": 1,
   "id": "97ebf555",
   "metadata": {},
   "outputs": [],
   "source": [
    "import pandas as pd\n",
    "import seaborn as sns \n",
    "import pandas as pd\n",
    "import numpy as np\n",
    "from random import sample\n",
    "\n",
    "from sklearn import tree\n",
    "from sklearn.tree import DecisionTreeClassifier\n",
    "from sklearn.model_selection import train_test_split\n",
    "\n",
    "from sklearn import metrics\n",
    "from sklearn.metrics import confusion_matrix\n",
    "from sklearn.metrics import f1_score\n",
    "\n",
    "import matplotlib.pyplot as plt\n",
    "import seaborn as sns\n",
    "sns.set_style('whitegrid')"
   ]
  },
  {
   "cell_type": "markdown",
   "id": "ca7d0aed",
   "metadata": {},
   "source": [
    "## Bagging"
   ]
  },
  {
   "cell_type": "markdown",
   "id": "e3acc4a4",
   "metadata": {},
   "source": [
    "Uma técnica que tem como objetivos aprimorar a acurácia e evitar o overfiting, reduzindo a variância. A partir dela, construimos várias vezes o mesmo modelo base para diferentes conjuntos de dados da mesma base de treinamento, obtendo uma estimativa final através da média dos resultados dos modelos base. O Bagging pode ser aplicado com diferentes algoritmos de machine learning, sendo flexível em sua escolha."
   ]
  },
  {
   "cell_type": "markdown",
   "id": "c1628b34",
   "metadata": {},
   "source": [
    "## Passo a Passo e Implementação"
   ]
  },
  {
   "cell_type": "markdown",
   "id": "47a9daf4",
   "metadata": {},
   "source": [
    "### Bootstrap"
   ]
  },
  {
   "cell_type": "markdown",
   "id": "d40ed7fb",
   "metadata": {},
   "source": [
    "Temos uma base disponível. Dessa base, realizaremos uma amostragem com reposição (bootstrap) e geraremos novas bases uniformes, aleatórias e com reposição. Sendo a quantidade e tamanho das bases a ser definidas de antemão."
   ]
  },
  {
   "cell_type": "code",
   "execution_count": 2,
   "id": "46f63c47",
   "metadata": {},
   "outputs": [
    {
     "data": {
      "text/html": [
       "<div>\n",
       "<style scoped>\n",
       "    .dataframe tbody tr th:only-of-type {\n",
       "        vertical-align: middle;\n",
       "    }\n",
       "\n",
       "    .dataframe tbody tr th {\n",
       "        vertical-align: top;\n",
       "    }\n",
       "\n",
       "    .dataframe thead th {\n",
       "        text-align: right;\n",
       "    }\n",
       "</style>\n",
       "<table border=\"1\" class=\"dataframe\">\n",
       "  <thead>\n",
       "    <tr style=\"text-align: right;\">\n",
       "      <th></th>\n",
       "      <th>species</th>\n",
       "      <th>island</th>\n",
       "      <th>bill_length_mm</th>\n",
       "      <th>bill_depth_mm</th>\n",
       "      <th>flipper_length_mm</th>\n",
       "      <th>body_mass_g</th>\n",
       "      <th>sex</th>\n",
       "    </tr>\n",
       "  </thead>\n",
       "  <tbody>\n",
       "    <tr>\n",
       "      <th>0</th>\n",
       "      <td>Adelie</td>\n",
       "      <td>Torgersen</td>\n",
       "      <td>39.1</td>\n",
       "      <td>18.7</td>\n",
       "      <td>181.0</td>\n",
       "      <td>3750.0</td>\n",
       "      <td>Male</td>\n",
       "    </tr>\n",
       "    <tr>\n",
       "      <th>1</th>\n",
       "      <td>Adelie</td>\n",
       "      <td>Torgersen</td>\n",
       "      <td>39.5</td>\n",
       "      <td>17.4</td>\n",
       "      <td>186.0</td>\n",
       "      <td>3800.0</td>\n",
       "      <td>Female</td>\n",
       "    </tr>\n",
       "    <tr>\n",
       "      <th>2</th>\n",
       "      <td>Adelie</td>\n",
       "      <td>Torgersen</td>\n",
       "      <td>40.3</td>\n",
       "      <td>18.0</td>\n",
       "      <td>195.0</td>\n",
       "      <td>3250.0</td>\n",
       "      <td>Female</td>\n",
       "    </tr>\n",
       "    <tr>\n",
       "      <th>4</th>\n",
       "      <td>Adelie</td>\n",
       "      <td>Torgersen</td>\n",
       "      <td>36.7</td>\n",
       "      <td>19.3</td>\n",
       "      <td>193.0</td>\n",
       "      <td>3450.0</td>\n",
       "      <td>Female</td>\n",
       "    </tr>\n",
       "    <tr>\n",
       "      <th>5</th>\n",
       "      <td>Adelie</td>\n",
       "      <td>Torgersen</td>\n",
       "      <td>39.3</td>\n",
       "      <td>20.6</td>\n",
       "      <td>190.0</td>\n",
       "      <td>3650.0</td>\n",
       "      <td>Male</td>\n",
       "    </tr>\n",
       "  </tbody>\n",
       "</table>\n",
       "</div>"
      ],
      "text/plain": [
       "  species     island  bill_length_mm  bill_depth_mm  flipper_length_mm  \\\n",
       "0  Adelie  Torgersen            39.1           18.7              181.0   \n",
       "1  Adelie  Torgersen            39.5           17.4              186.0   \n",
       "2  Adelie  Torgersen            40.3           18.0              195.0   \n",
       "4  Adelie  Torgersen            36.7           19.3              193.0   \n",
       "5  Adelie  Torgersen            39.3           20.6              190.0   \n",
       "\n",
       "   body_mass_g     sex  \n",
       "0       3750.0    Male  \n",
       "1       3800.0  Female  \n",
       "2       3250.0  Female  \n",
       "4       3450.0  Female  \n",
       "5       3650.0    Male  "
      ]
     },
     "execution_count": 2,
     "metadata": {},
     "output_type": "execute_result"
    }
   ],
   "source": [
    "df = sns.load_dataset('penguins')\n",
    "df.dropna(inplace = True)\n",
    "df.head()"
   ]
  },
  {
   "cell_type": "code",
   "execution_count": 3,
   "id": "dda9ccf9",
   "metadata": {},
   "outputs": [
    {
     "data": {
      "text/plain": [
       "Adelie    146\n",
       "Gentoo    119\n",
       "Name: species, dtype: int64"
      ]
     },
     "execution_count": 3,
     "metadata": {},
     "output_type": "execute_result"
    }
   ],
   "source": [
    "# exclui uma das espécies para facilitar o entendimento\n",
    "df.drop(df.query('species == \"Chinstrap\"').index, inplace = True)\n",
    "df.species.value_counts()"
   ]
  },
  {
   "cell_type": "code",
   "execution_count": 4,
   "id": "b89d322d",
   "metadata": {},
   "outputs": [
    {
     "data": {
      "text/plain": [
       "0    146\n",
       "1    119\n",
       "Name: species, dtype: int64"
      ]
     },
     "execution_count": 4,
     "metadata": {},
     "output_type": "execute_result"
    }
   ],
   "source": [
    "alt = {'Adelie' : 0, 'Gentoo' : 1}\n",
    "df.species = df.species.map(alt)\n",
    "df.species.value_counts()"
   ]
  },
  {
   "cell_type": "code",
   "execution_count": 5,
   "id": "4a863a53",
   "metadata": {},
   "outputs": [],
   "source": [
    "def bootstrap(base, amostras):\n",
    "    subdf_X = []\n",
    "    subdf_y = []\n",
    "        \n",
    "    for i in range(0,int(len(base)/amostras)):\n",
    "        subbase = base.sample(int(len(base)/amostras))\n",
    "        X = subbase.drop(['species', 'island', 'sex'], axis = 1)\n",
    "        y = subbase.species\n",
    "        subdf_X.append(X)\n",
    "        subdf_y.append(y)\n",
    "                \n",
    "    return subdf_y, subdf_X"
   ]
  },
  {
   "cell_type": "code",
   "execution_count": 6,
   "id": "1dfe1db3",
   "metadata": {},
   "outputs": [
    {
     "data": {
      "text/html": [
       "<div>\n",
       "<style scoped>\n",
       "    .dataframe tbody tr th:only-of-type {\n",
       "        vertical-align: middle;\n",
       "    }\n",
       "\n",
       "    .dataframe tbody tr th {\n",
       "        vertical-align: top;\n",
       "    }\n",
       "\n",
       "    .dataframe thead th {\n",
       "        text-align: right;\n",
       "    }\n",
       "</style>\n",
       "<table border=\"1\" class=\"dataframe\">\n",
       "  <thead>\n",
       "    <tr style=\"text-align: right;\">\n",
       "      <th></th>\n",
       "      <th>bill_length_mm</th>\n",
       "      <th>bill_depth_mm</th>\n",
       "      <th>flipper_length_mm</th>\n",
       "      <th>body_mass_g</th>\n",
       "    </tr>\n",
       "  </thead>\n",
       "  <tbody>\n",
       "    <tr>\n",
       "      <th>267</th>\n",
       "      <td>50.5</td>\n",
       "      <td>15.9</td>\n",
       "      <td>225.0</td>\n",
       "      <td>5400.0</td>\n",
       "    </tr>\n",
       "    <tr>\n",
       "      <th>77</th>\n",
       "      <td>37.2</td>\n",
       "      <td>19.4</td>\n",
       "      <td>184.0</td>\n",
       "      <td>3900.0</td>\n",
       "    </tr>\n",
       "    <tr>\n",
       "      <th>223</th>\n",
       "      <td>50.0</td>\n",
       "      <td>15.2</td>\n",
       "      <td>218.0</td>\n",
       "      <td>5700.0</td>\n",
       "    </tr>\n",
       "    <tr>\n",
       "      <th>0</th>\n",
       "      <td>39.1</td>\n",
       "      <td>18.7</td>\n",
       "      <td>181.0</td>\n",
       "      <td>3750.0</td>\n",
       "    </tr>\n",
       "    <tr>\n",
       "      <th>255</th>\n",
       "      <td>48.4</td>\n",
       "      <td>16.3</td>\n",
       "      <td>220.0</td>\n",
       "      <td>5400.0</td>\n",
       "    </tr>\n",
       "    <tr>\n",
       "      <th>312</th>\n",
       "      <td>45.5</td>\n",
       "      <td>14.5</td>\n",
       "      <td>212.0</td>\n",
       "      <td>4750.0</td>\n",
       "    </tr>\n",
       "    <tr>\n",
       "      <th>133</th>\n",
       "      <td>37.5</td>\n",
       "      <td>18.5</td>\n",
       "      <td>199.0</td>\n",
       "      <td>4475.0</td>\n",
       "    </tr>\n",
       "  </tbody>\n",
       "</table>\n",
       "</div>"
      ],
      "text/plain": [
       "     bill_length_mm  bill_depth_mm  flipper_length_mm  body_mass_g\n",
       "267            50.5           15.9              225.0       5400.0\n",
       "77             37.2           19.4              184.0       3900.0\n",
       "223            50.0           15.2              218.0       5700.0\n",
       "0              39.1           18.7              181.0       3750.0\n",
       "255            48.4           16.3              220.0       5400.0\n",
       "312            45.5           14.5              212.0       4750.0\n",
       "133            37.5           18.5              199.0       4475.0"
      ]
     },
     "execution_count": 6,
     "metadata": {},
     "output_type": "execute_result"
    }
   ],
   "source": [
    "subdf_y, subdf_X = bootstrap(df, 35)\n",
    "subdf_X[1]"
   ]
  },
  {
   "cell_type": "markdown",
   "id": "08fb0aaa",
   "metadata": {},
   "source": [
    "### Modelagem"
   ]
  },
  {
   "cell_type": "markdown",
   "id": "cc2d7a68",
   "metadata": {},
   "source": [
    "Então escolheremos nosso modelo para classificação ou regressão, como por exemplo árveore de decisão. O modelo escolhido será aplicado para cada nova base gerada no passo anterior"
   ]
  },
  {
   "cell_type": "code",
   "execution_count": 7,
   "id": "803f7a03",
   "metadata": {},
   "outputs": [],
   "source": [
    "# arvore de decisão\n",
    "\n",
    "def modelagem(subdf_y, subdf_X):\n",
    "    arvores = []\n",
    "    for i in range(0,int(len(subdf_y))):\n",
    "        clf = tree.DecisionTreeClassifier(random_state = 1234)\n",
    "        clf = clf.fit(subdf_X[i], subdf_y[i])\n",
    "        y_pred = clf.predict(subdf_X[i])\n",
    "        arvores.append(y_pred)\n",
    "                   \n",
    "    return arvores"
   ]
  },
  {
   "cell_type": "code",
   "execution_count": 8,
   "id": "101c80fb",
   "metadata": {},
   "outputs": [
    {
     "data": {
      "text/plain": [
       "[array([0, 0, 0, 0, 1, 0, 1], dtype=int64),\n",
       " array([1, 0, 1, 0, 1, 1, 0], dtype=int64),\n",
       " array([1, 1, 0, 1, 1, 1, 1], dtype=int64),\n",
       " array([1, 1, 0, 0, 0, 0, 0], dtype=int64),\n",
       " array([0, 1, 0, 0, 1, 1, 0], dtype=int64),\n",
       " array([0, 1, 0, 0, 0, 0, 0], dtype=int64),\n",
       " array([0, 1, 0, 1, 1, 1, 1], dtype=int64)]"
      ]
     },
     "execution_count": 8,
     "metadata": {},
     "output_type": "execute_result"
    }
   ],
   "source": [
    "arvores = modelagem(subdf_y, subdf_X)\n",
    "arvores"
   ]
  },
  {
   "cell_type": "markdown",
   "id": "393bc782",
   "metadata": {},
   "source": [
    "### Aggregating"
   ]
  },
  {
   "cell_type": "markdown",
   "id": "789e72f4",
   "metadata": {},
   "source": [
    "Após ajustarmos os modelos na etapa anterior, combinamos os resultados por sua média (para modelos de regressão) ou por votação (para modelos de classificação)."
   ]
  },
  {
   "cell_type": "code",
   "execution_count": 9,
   "id": "9fec06d3",
   "metadata": {},
   "outputs": [],
   "source": [
    "def agrega(subdf_X, subdf_y, arvores):\n",
    "    df_pred = pd.DataFrame()\n",
    "\n",
    "    for i in range(0,int(len(subdf_X))):\n",
    "        subdf_X[i]['original'] = subdf_y[i]\n",
    "        subdf_X[i]['predito'] = arvores[i]\n",
    "\n",
    "        for j in range(0,int(len(subdf_X))):\n",
    "\n",
    "            df_pred = pd.concat([df_pred,subdf_X[j]])\n",
    "\n",
    "    return df_pred.groupby(['original', 'predito'])[['original', 'predito']].count()\n"
   ]
  },
  {
   "cell_type": "code",
   "execution_count": 10,
   "id": "6acdb203",
   "metadata": {},
   "outputs": [
    {
     "data": {
      "text/html": [
       "<div>\n",
       "<style scoped>\n",
       "    .dataframe tbody tr th:only-of-type {\n",
       "        vertical-align: middle;\n",
       "    }\n",
       "\n",
       "    .dataframe tbody tr th {\n",
       "        vertical-align: top;\n",
       "    }\n",
       "\n",
       "    .dataframe thead th {\n",
       "        text-align: right;\n",
       "    }\n",
       "</style>\n",
       "<table border=\"1\" class=\"dataframe\">\n",
       "  <thead>\n",
       "    <tr style=\"text-align: right;\">\n",
       "      <th></th>\n",
       "      <th></th>\n",
       "      <th>original</th>\n",
       "      <th>predito</th>\n",
       "    </tr>\n",
       "    <tr>\n",
       "      <th>original</th>\n",
       "      <th>predito</th>\n",
       "      <th></th>\n",
       "      <th></th>\n",
       "    </tr>\n",
       "  </thead>\n",
       "  <tbody>\n",
       "    <tr>\n",
       "      <th>0.0</th>\n",
       "      <th>0.0</th>\n",
       "      <td>104</td>\n",
       "      <td>104</td>\n",
       "    </tr>\n",
       "    <tr>\n",
       "      <th>1.0</th>\n",
       "      <th>1.0</th>\n",
       "      <td>92</td>\n",
       "      <td>92</td>\n",
       "    </tr>\n",
       "  </tbody>\n",
       "</table>\n",
       "</div>"
      ],
      "text/plain": [
       "                  original  predito\n",
       "original predito                   \n",
       "0.0      0.0           104      104\n",
       "1.0      1.0            92       92"
      ]
     },
     "execution_count": 10,
     "metadata": {},
     "output_type": "execute_result"
    }
   ],
   "source": [
    "agrega(subdf_X, subdf_y, arvores)"
   ]
  }
 ],
 "metadata": {
  "kernelspec": {
   "display_name": "Python 3 (ipykernel)",
   "language": "python",
   "name": "python3"
  },
  "language_info": {
   "codemirror_mode": {
    "name": "ipython",
    "version": 3
   },
   "file_extension": ".py",
   "mimetype": "text/x-python",
   "name": "python",
   "nbconvert_exporter": "python",
   "pygments_lexer": "ipython3",
   "version": "3.10.9"
  }
 },
 "nbformat": 4,
 "nbformat_minor": 5
}
