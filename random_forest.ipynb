{
 "cells": [
  {
   "cell_type": "code",
   "execution_count": 1,
   "id": "97ebf555",
   "metadata": {},
   "outputs": [],
   "source": [
    "import pandas as pd\n",
    "import seaborn as sns \n",
    "import pandas as pd\n",
    "import numpy as np\n",
    "from random import sample\n",
    "\n",
    "from sklearn import tree\n",
    "from sklearn.tree import DecisionTreeClassifier\n",
    "\n",
    "import matplotlib.pyplot as plt\n",
    "import seaborn as sns\n",
    "sns.set_style('whitegrid')"
   ]
  },
  {
   "cell_type": "markdown",
   "id": "ca7d0aed",
   "metadata": {},
   "source": [
    "## Random Forest"
   ]
  },
  {
   "cell_type": "markdown",
   "id": "e3acc4a4",
   "metadata": {},
   "source": [
    "O Random Forest é uma técnica de aprendizado em conjunto, assim como o Bagging, que é utilizada para tarefas de classificação, regressão e outras. Seu funcionamento é baseado na criação de diversas árvores de decisão, lidando com o problema de overfit ao se criar uma única árvore de decisão com grande profundidade.\n",
    "\n",
    "Dessa forma, o Random Forest é uma técnica útil para lidar com problemas de overfitting e para melhorar a performance de modelos de aprendizado de máquina em geral. Além disso, ele apresenta a vantagem de ser relativamente fácil de implementar e de ser capaz de lidar com uma grande variedade de tipos de dados."
   ]
  },
  {
   "cell_type": "markdown",
   "id": "c1628b34",
   "metadata": {},
   "source": [
    "## Passo a Passo e Implementação"
   ]
  },
  {
   "cell_type": "markdown",
   "id": "47a9daf4",
   "metadata": {},
   "source": [
    "### Bootstrap + feature selection"
   ]
  },
  {
   "cell_type": "markdown",
   "id": "d40ed7fb",
   "metadata": {},
   "source": [
    "Dada uma base de dados, realizaremos uma amostragem com reposição (bootstrap) e geraremos novas bases uniformes, aleatórias e com reposição. Sendo a quantidade e tamanho das bases a ser definidas de antemão, do mesmo modo que no bagging.\n",
    "\n",
    "O algoritmo de treinamento para a Random Forest aplica a técnica geral do Bootstrap com uma pequena modificação dividindo também as colunas com as variáveis explicativas do modelo (feature selection). Respeitando a regra:  m novas bases de dados com raiz quadrada de p colunas de variáveis explicativas para um problema de classificação ou p colunas dividido por 3 de variáveis explicativas para um problema de regressão"
   ]
  },
  {
   "cell_type": "code",
   "execution_count": 2,
   "id": "46f63c47",
   "metadata": {},
   "outputs": [
    {
     "data": {
      "text/html": [
       "<div>\n",
       "<style scoped>\n",
       "    .dataframe tbody tr th:only-of-type {\n",
       "        vertical-align: middle;\n",
       "    }\n",
       "\n",
       "    .dataframe tbody tr th {\n",
       "        vertical-align: top;\n",
       "    }\n",
       "\n",
       "    .dataframe thead th {\n",
       "        text-align: right;\n",
       "    }\n",
       "</style>\n",
       "<table border=\"1\" class=\"dataframe\">\n",
       "  <thead>\n",
       "    <tr style=\"text-align: right;\">\n",
       "      <th></th>\n",
       "      <th>species</th>\n",
       "      <th>island</th>\n",
       "      <th>bill_length_mm</th>\n",
       "      <th>bill_depth_mm</th>\n",
       "      <th>flipper_length_mm</th>\n",
       "      <th>body_mass_g</th>\n",
       "      <th>sex</th>\n",
       "    </tr>\n",
       "  </thead>\n",
       "  <tbody>\n",
       "    <tr>\n",
       "      <th>0</th>\n",
       "      <td>Adelie</td>\n",
       "      <td>Torgersen</td>\n",
       "      <td>39.1</td>\n",
       "      <td>18.7</td>\n",
       "      <td>181.0</td>\n",
       "      <td>3750.0</td>\n",
       "      <td>Male</td>\n",
       "    </tr>\n",
       "    <tr>\n",
       "      <th>1</th>\n",
       "      <td>Adelie</td>\n",
       "      <td>Torgersen</td>\n",
       "      <td>39.5</td>\n",
       "      <td>17.4</td>\n",
       "      <td>186.0</td>\n",
       "      <td>3800.0</td>\n",
       "      <td>Female</td>\n",
       "    </tr>\n",
       "    <tr>\n",
       "      <th>2</th>\n",
       "      <td>Adelie</td>\n",
       "      <td>Torgersen</td>\n",
       "      <td>40.3</td>\n",
       "      <td>18.0</td>\n",
       "      <td>195.0</td>\n",
       "      <td>3250.0</td>\n",
       "      <td>Female</td>\n",
       "    </tr>\n",
       "    <tr>\n",
       "      <th>4</th>\n",
       "      <td>Adelie</td>\n",
       "      <td>Torgersen</td>\n",
       "      <td>36.7</td>\n",
       "      <td>19.3</td>\n",
       "      <td>193.0</td>\n",
       "      <td>3450.0</td>\n",
       "      <td>Female</td>\n",
       "    </tr>\n",
       "    <tr>\n",
       "      <th>5</th>\n",
       "      <td>Adelie</td>\n",
       "      <td>Torgersen</td>\n",
       "      <td>39.3</td>\n",
       "      <td>20.6</td>\n",
       "      <td>190.0</td>\n",
       "      <td>3650.0</td>\n",
       "      <td>Male</td>\n",
       "    </tr>\n",
       "  </tbody>\n",
       "</table>\n",
       "</div>"
      ],
      "text/plain": [
       "  species     island  bill_length_mm  bill_depth_mm  flipper_length_mm  \\\n",
       "0  Adelie  Torgersen            39.1           18.7              181.0   \n",
       "1  Adelie  Torgersen            39.5           17.4              186.0   \n",
       "2  Adelie  Torgersen            40.3           18.0              195.0   \n",
       "4  Adelie  Torgersen            36.7           19.3              193.0   \n",
       "5  Adelie  Torgersen            39.3           20.6              190.0   \n",
       "\n",
       "   body_mass_g     sex  \n",
       "0       3750.0    Male  \n",
       "1       3800.0  Female  \n",
       "2       3250.0  Female  \n",
       "4       3450.0  Female  \n",
       "5       3650.0    Male  "
      ]
     },
     "execution_count": 2,
     "metadata": {},
     "output_type": "execute_result"
    }
   ],
   "source": [
    "df = sns.load_dataset('penguins')\n",
    "df.dropna(inplace = True)\n",
    "df.head()"
   ]
  },
  {
   "cell_type": "code",
   "execution_count": 3,
   "id": "dda9ccf9",
   "metadata": {},
   "outputs": [
    {
     "data": {
      "text/plain": [
       "Adelie    146\n",
       "Gentoo    119\n",
       "Name: species, dtype: int64"
      ]
     },
     "execution_count": 3,
     "metadata": {},
     "output_type": "execute_result"
    }
   ],
   "source": [
    "# exclui uma das espécies para facilitar o entendimento\n",
    "df.drop(df.query('species == \"Chinstrap\"').index, inplace = True)\n",
    "df.species.value_counts()"
   ]
  },
  {
   "cell_type": "code",
   "execution_count": 4,
   "id": "b89d322d",
   "metadata": {},
   "outputs": [
    {
     "data": {
      "text/plain": [
       "0    146\n",
       "1    119\n",
       "Name: species, dtype: int64"
      ]
     },
     "execution_count": 4,
     "metadata": {},
     "output_type": "execute_result"
    }
   ],
   "source": [
    "alt = {'Adelie' : 0, 'Gentoo' : 1}\n",
    "df.species = df.species.map(alt)\n",
    "df.species.value_counts()"
   ]
  },
  {
   "cell_type": "code",
   "execution_count": 5,
   "id": "4a863a53",
   "metadata": {},
   "outputs": [],
   "source": [
    "# classificação m = np.sqrt(p) = 2\n",
    "\n",
    "def bootsfeat(base, m, p):\n",
    "    subdf_X = []\n",
    "    subdf_y = []\n",
    "    col = ['bill_length_mm', 'bill_depth_mm',\n",
    "       'flipper_length_mm', 'body_mass_g']\n",
    "    \n",
    "    for i in range(0,int(len(base)/m)):\n",
    "        subbase = base.sample(int(len(base)/m))\n",
    "        X = subbase[sample(col, p)]\n",
    "        y = subbase.species\n",
    "        subdf_X.append(X)\n",
    "        subdf_y.append(y)\n",
    "                \n",
    "    return subdf_y, subdf_X"
   ]
  },
  {
   "cell_type": "code",
   "execution_count": 6,
   "id": "1dfe1db3",
   "metadata": {},
   "outputs": [
    {
     "data": {
      "text/html": [
       "<div>\n",
       "<style scoped>\n",
       "    .dataframe tbody tr th:only-of-type {\n",
       "        vertical-align: middle;\n",
       "    }\n",
       "\n",
       "    .dataframe tbody tr th {\n",
       "        vertical-align: top;\n",
       "    }\n",
       "\n",
       "    .dataframe thead th {\n",
       "        text-align: right;\n",
       "    }\n",
       "</style>\n",
       "<table border=\"1\" class=\"dataframe\">\n",
       "  <thead>\n",
       "    <tr style=\"text-align: right;\">\n",
       "      <th></th>\n",
       "      <th>bill_depth_mm</th>\n",
       "      <th>bill_length_mm</th>\n",
       "    </tr>\n",
       "  </thead>\n",
       "  <tbody>\n",
       "    <tr>\n",
       "      <th>308</th>\n",
       "      <td>14.0</td>\n",
       "      <td>47.5</td>\n",
       "    </tr>\n",
       "    <tr>\n",
       "      <th>138</th>\n",
       "      <td>16.5</td>\n",
       "      <td>37.0</td>\n",
       "    </tr>\n",
       "    <tr>\n",
       "      <th>226</th>\n",
       "      <td>14.6</td>\n",
       "      <td>45.4</td>\n",
       "    </tr>\n",
       "    <tr>\n",
       "      <th>251</th>\n",
       "      <td>14.2</td>\n",
       "      <td>42.8</td>\n",
       "    </tr>\n",
       "    <tr>\n",
       "      <th>90</th>\n",
       "      <td>18.0</td>\n",
       "      <td>35.7</td>\n",
       "    </tr>\n",
       "    <tr>\n",
       "      <th>305</th>\n",
       "      <td>17.3</td>\n",
       "      <td>50.8</td>\n",
       "    </tr>\n",
       "    <tr>\n",
       "      <th>234</th>\n",
       "      <td>14.6</td>\n",
       "      <td>45.8</td>\n",
       "    </tr>\n",
       "  </tbody>\n",
       "</table>\n",
       "</div>"
      ],
      "text/plain": [
       "     bill_depth_mm  bill_length_mm\n",
       "308           14.0            47.5\n",
       "138           16.5            37.0\n",
       "226           14.6            45.4\n",
       "251           14.2            42.8\n",
       "90            18.0            35.7\n",
       "305           17.3            50.8\n",
       "234           14.6            45.8"
      ]
     },
     "execution_count": 6,
     "metadata": {},
     "output_type": "execute_result"
    }
   ],
   "source": [
    "subdf_y, subdf_X = bootsfeat(df, 35, 2)\n",
    "subdf_X[1]"
   ]
  },
  {
   "cell_type": "markdown",
   "id": "08fb0aaa",
   "metadata": {},
   "source": [
    "### Modelagem"
   ]
  },
  {
   "cell_type": "markdown",
   "id": "cc2d7a68",
   "metadata": {},
   "source": [
    "Então escolheremos nosso modelo para classificação ou regressão, como por exemplo árveore de decisão. O modelo escolhido será aplicado para cada nova base gerada no passo anterior"
   ]
  },
  {
   "cell_type": "code",
   "execution_count": 7,
   "id": "803f7a03",
   "metadata": {},
   "outputs": [],
   "source": [
    "# arvore de decisão\n",
    "\n",
    "def modelagem(subdf_y, subdf_X):\n",
    "    arvores = []\n",
    "    for i in range(0,int(len(subdf_y))):\n",
    "        clf = tree.DecisionTreeClassifier(random_state = 1234)\n",
    "        clf = clf.fit(subdf_X[i], subdf_y[i])\n",
    "        y_pred = clf.predict(subdf_X[i])\n",
    "        arvores.append(y_pred)\n",
    "                   \n",
    "    return arvores"
   ]
  },
  {
   "cell_type": "code",
   "execution_count": 8,
   "id": "101c80fb",
   "metadata": {},
   "outputs": [
    {
     "data": {
      "text/plain": [
       "[array([0, 0, 0, 0, 1, 0, 0], dtype=int64),\n",
       " array([1, 0, 1, 1, 0, 1, 1], dtype=int64),\n",
       " array([1, 1, 1, 0, 0, 0, 1], dtype=int64),\n",
       " array([0, 1, 1, 0, 0, 0, 1], dtype=int64),\n",
       " array([0, 0, 0, 1, 0, 1, 0], dtype=int64),\n",
       " array([1, 0, 0, 0, 0, 0, 1], dtype=int64),\n",
       " array([0, 0, 1, 1, 1, 0, 0], dtype=int64)]"
      ]
     },
     "execution_count": 8,
     "metadata": {},
     "output_type": "execute_result"
    }
   ],
   "source": [
    "arvores = modelagem(subdf_y, subdf_X)\n",
    "arvores"
   ]
  },
  {
   "cell_type": "markdown",
   "id": "393bc782",
   "metadata": {},
   "source": [
    "### Aggregating"
   ]
  },
  {
   "cell_type": "markdown",
   "id": "789e72f4",
   "metadata": {},
   "source": [
    "Após ajustarmos os modelos na etapa anterior, combinamos os resultados por sua média (para modelos de regressão) ou por votação (para modelos de classificação)."
   ]
  },
  {
   "cell_type": "code",
   "execution_count": 9,
   "id": "9fec06d3",
   "metadata": {},
   "outputs": [],
   "source": [
    "def agrega(subdf_X, subdf_y, arvores):\n",
    "    df_pred = pd.DataFrame()\n",
    "\n",
    "    for i in range(0,int(len(subdf_X))):\n",
    "        subdf_X[i]['original'] = subdf_y[i]\n",
    "        subdf_X[i]['predito'] = arvores[i]\n",
    "\n",
    "        for j in range(0,int(len(subdf_X))):\n",
    "\n",
    "            df_pred = pd.concat([df_pred,subdf_X[j]])\n",
    "\n",
    "    return df_pred.groupby(['original', 'predito'])[['original', 'predito']].count()\n"
   ]
  },
  {
   "cell_type": "code",
   "execution_count": 10,
   "id": "6acdb203",
   "metadata": {},
   "outputs": [
    {
     "data": {
      "text/html": [
       "<div>\n",
       "<style scoped>\n",
       "    .dataframe tbody tr th:only-of-type {\n",
       "        vertical-align: middle;\n",
       "    }\n",
       "\n",
       "    .dataframe tbody tr th {\n",
       "        vertical-align: top;\n",
       "    }\n",
       "\n",
       "    .dataframe thead th {\n",
       "        text-align: right;\n",
       "    }\n",
       "</style>\n",
       "<table border=\"1\" class=\"dataframe\">\n",
       "  <thead>\n",
       "    <tr style=\"text-align: right;\">\n",
       "      <th></th>\n",
       "      <th></th>\n",
       "      <th>original</th>\n",
       "      <th>predito</th>\n",
       "    </tr>\n",
       "    <tr>\n",
       "      <th>original</th>\n",
       "      <th>predito</th>\n",
       "      <th></th>\n",
       "      <th></th>\n",
       "    </tr>\n",
       "  </thead>\n",
       "  <tbody>\n",
       "    <tr>\n",
       "      <th>0.0</th>\n",
       "      <th>0.0</th>\n",
       "      <td>114</td>\n",
       "      <td>114</td>\n",
       "    </tr>\n",
       "    <tr>\n",
       "      <th>1.0</th>\n",
       "      <th>1.0</th>\n",
       "      <td>82</td>\n",
       "      <td>82</td>\n",
       "    </tr>\n",
       "  </tbody>\n",
       "</table>\n",
       "</div>"
      ],
      "text/plain": [
       "                  original  predito\n",
       "original predito                   \n",
       "0.0      0.0           114      114\n",
       "1.0      1.0            82       82"
      ]
     },
     "execution_count": 10,
     "metadata": {},
     "output_type": "execute_result"
    }
   ],
   "source": [
    "agrega(subdf_X, subdf_y, arvores)"
   ]
  },
  {
   "cell_type": "markdown",
   "id": "8c9acfca",
   "metadata": {},
   "source": [
    "## Diferença entre Bagging e Random Forest"
   ]
  },
  {
   "cell_type": "markdown",
   "id": "797b9352",
   "metadata": {},
   "source": [
    "O Bagging é uma técnica de ensemble que cria múltiplos modelos independentes, enquanto a Random Forest é uma variação do Bagging que usa árvores de decisão como modelo base e usa amostragem aleatória dos recursos e do conjunto de dados de treinamento para reduzir a correlação entre as árvores. Ambas as técnicas são eficazes em melhorar a precisão do modelo e reduzir o overfitting."
   ]
  }
 ],
 "metadata": {
  "kernelspec": {
   "display_name": "Python 3 (ipykernel)",
   "language": "python",
   "name": "python3"
  },
  "language_info": {
   "codemirror_mode": {
    "name": "ipython",
    "version": 3
   },
   "file_extension": ".py",
   "mimetype": "text/x-python",
   "name": "python",
   "nbconvert_exporter": "python",
   "pygments_lexer": "ipython3",
   "version": "3.10.9"
  }
 },
 "nbformat": 4,
 "nbformat_minor": 5
}
